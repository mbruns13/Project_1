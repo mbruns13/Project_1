{
 "cells": [
  {
   "cell_type": "code",
   "execution_count": 1,
   "id": "3da497be-7bd4-4787-985e-bde6e6539630",
   "metadata": {},
   "outputs": [],
   "source": [
    "#file for molly branch"
   ]
  },
  {
   "cell_type": "code",
   "execution_count": null,
   "id": "7e7abec4-eb20-49a8-a3dd-9a1ff6a12a1a",
   "metadata": {},
   "outputs": [],
   "source": []
  }
 ],
 "metadata": {
  "kernelspec": {
   "display_name": "Python 3 (ipykernel)",
   "language": "python",
   "name": "python3"
  },
  "language_info": {
   "codemirror_mode": {
    "name": "ipython",
    "version": 3
   },
   "file_extension": ".py",
   "mimetype": "text/x-python",
   "name": "python",
   "nbconvert_exporter": "python",
   "pygments_lexer": "ipython3",
   "version": "3.9.7"
  }
 },
 "nbformat": 4,
 "nbformat_minor": 5
}
