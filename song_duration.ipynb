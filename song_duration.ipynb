{
 "cells": [
  {
   "cell_type": "code",
   "execution_count": 1,
   "id": "3da497be-7bd4-4787-985e-bde6e6539630",
   "metadata": {},
   "outputs": [],
   "source": [
    "#file for molly branch"
   ]
  },
  {
   "cell_type": "code",
   "execution_count": 2,
   "id": "7e7abec4-eb20-49a8-a3dd-9a1ff6a12a1a",
   "metadata": {},
   "outputs": [],
   "source": [
    "#dependencies and setup\n",
    "import requests\n",
    "import json\n",
    "import matplotlib.pyplot as plt\n",
    "import pandas as pd\n",
    "import numpy as np\n",
    "from scipy.stats import linregress\n",
    "\n",
    "#import spotify access token\n",
    "from config import access_token"
   ]
  },
  {
   "cell_type": "code",
   "execution_count": 3,
   "id": "e4a534f6-0e79-4e34-b21f-3413cabd0fe4",
   "metadata": {},
   "outputs": [],
   "source": [
    "#base URL for Spotify API\n",
    "base_url = 'https://api.spotify.com/v1/'"
   ]
  },
  {
   "cell_type": "code",
   "execution_count": 4,
   "id": "937baca4-2f45-4994-bb94-db00c296cb14",
   "metadata": {},
   "outputs": [],
   "source": [
    "#from: https://stmorse.github.io/journal/spotify-api.html\n",
    "#In order to access, we send a properly formed GET request to the API server, with our access_token in the header. Let’s save this header info now, in the following very specific format:\n",
    "headers = {\n",
    "    'Authorization': 'Bearer {token}'.format(token=access_token)\n",
    "}"
   ]
  },
  {
   "cell_type": "code",
   "execution_count": 11,
   "id": "796a8936-65e6-45d6-9347-74013b36c598",
   "metadata": {},
   "outputs": [
    {
     "data": {
      "text/html": [
       "<div>\n",
       "<style scoped>\n",
       "    .dataframe tbody tr th:only-of-type {\n",
       "        vertical-align: middle;\n",
       "    }\n",
       "\n",
       "    .dataframe tbody tr th {\n",
       "        vertical-align: top;\n",
       "    }\n",
       "\n",
       "    .dataframe thead th {\n",
       "        text-align: right;\n",
       "    }\n",
       "</style>\n",
       "<table border=\"1\" class=\"dataframe\">\n",
       "  <thead>\n",
       "    <tr style=\"text-align: right;\">\n",
       "      <th></th>\n",
       "      <th>rank</th>\n",
       "      <th>track_id</th>\n",
       "      <th>artist_names</th>\n",
       "      <th>track_name</th>\n",
       "      <th>peak_rank</th>\n",
       "      <th>previous_rank</th>\n",
       "      <th>weeks_on_chart</th>\n",
       "      <th>streams</th>\n",
       "    </tr>\n",
       "  </thead>\n",
       "  <tbody>\n",
       "    <tr>\n",
       "      <th>0</th>\n",
       "      <td>1</td>\n",
       "      <td>4Dvkj6JhhA12EX05fT7y2e</td>\n",
       "      <td>Harry Styles</td>\n",
       "      <td>As It Was</td>\n",
       "      <td>1</td>\n",
       "      <td>1</td>\n",
       "      <td>9</td>\n",
       "      <td>60420855</td>\n",
       "    </tr>\n",
       "    <tr>\n",
       "      <th>1</th>\n",
       "      <td>2</td>\n",
       "      <td>6Sq7ltF9Qa7SNFBsV5Cogx</td>\n",
       "      <td>Bad Bunny, Chencho Corleone</td>\n",
       "      <td>Me Porto Bonito</td>\n",
       "      <td>2</td>\n",
       "      <td>4</td>\n",
       "      <td>4</td>\n",
       "      <td>39026161</td>\n",
       "    </tr>\n",
       "    <tr>\n",
       "      <th>2</th>\n",
       "      <td>3</td>\n",
       "      <td>3k3NWokhRRkEPhCzPmV8TW</td>\n",
       "      <td>Bad Bunny, Bomba Estéreo</td>\n",
       "      <td>Ojitos Lindos</td>\n",
       "      <td>3</td>\n",
       "      <td>3</td>\n",
       "      <td>4</td>\n",
       "      <td>37623538</td>\n",
       "    </tr>\n",
       "    <tr>\n",
       "      <th>3</th>\n",
       "      <td>4</td>\n",
       "      <td>75FEaRjZTKLhTrFGsfMUXR</td>\n",
       "      <td>Kate Bush</td>\n",
       "      <td>Running Up That Hill (A Deal With God) - 2018 ...</td>\n",
       "      <td>4</td>\n",
       "      <td>-1</td>\n",
       "      <td>1</td>\n",
       "      <td>32763806</td>\n",
       "    </tr>\n",
       "    <tr>\n",
       "      <th>4</th>\n",
       "      <td>5</td>\n",
       "      <td>1IHWl5LamUGEuP4ozKQSXZ</td>\n",
       "      <td>Bad Bunny</td>\n",
       "      <td>Tití Me Preguntó</td>\n",
       "      <td>5</td>\n",
       "      <td>9</td>\n",
       "      <td>4</td>\n",
       "      <td>31126704</td>\n",
       "    </tr>\n",
       "  </tbody>\n",
       "</table>\n",
       "</div>"
      ],
      "text/plain": [
       "   rank                track_id                 artist_names  \\\n",
       "0     1  4Dvkj6JhhA12EX05fT7y2e                 Harry Styles   \n",
       "1     2  6Sq7ltF9Qa7SNFBsV5Cogx  Bad Bunny, Chencho Corleone   \n",
       "2     3  3k3NWokhRRkEPhCzPmV8TW     Bad Bunny, Bomba Estéreo   \n",
       "3     4  75FEaRjZTKLhTrFGsfMUXR                    Kate Bush   \n",
       "4     5  1IHWl5LamUGEuP4ozKQSXZ                    Bad Bunny   \n",
       "\n",
       "                                          track_name  peak_rank  \\\n",
       "0                                          As It Was          1   \n",
       "1                                    Me Porto Bonito          2   \n",
       "2                                      Ojitos Lindos          3   \n",
       "3  Running Up That Hill (A Deal With God) - 2018 ...          4   \n",
       "4                                   Tití Me Preguntó          5   \n",
       "\n",
       "   previous_rank  weeks_on_chart   streams  \n",
       "0              1               9  60420855  \n",
       "1              4               4  39026161  \n",
       "2              3               4  37623538  \n",
       "3             -1               1  32763806  \n",
       "4              9               4  31126704  "
      ]
     },
     "execution_count": 11,
     "metadata": {},
     "output_type": "execute_result"
    }
   ],
   "source": [
    "#import global top songs csv\n",
    "global_songs_df = pd.read_csv(\"resources/global-weekly-2022-06-02.csv\")\n",
    "\n",
    "#extracting track id (removing \"spotify:track:\")\n",
    "track_id = global_songs_df.uri.str[14:]\n",
    "\n",
    "#convert to df for renaming and merging with original global songs df\n",
    "track_id = track_id.to_frame()\n",
    "\n",
    "#rename track id column\n",
    "track_id = track_id.rename(columns={\"uri\":\"track_id\"})\n",
    "\n",
    "#merge dfs\n",
    "cleaned_global_df = global_songs_df.merge(track_id, how=\"inner\", left_index=True, right_index=True)\n",
    "\n",
    "#pare down columns\n",
    "cleaned_global_df = cleaned_global_df[[\"rank\", \"track_id\", \"artist_names\", \"track_name\", \"peak_rank\", \"previous_rank\", \"weeks_on_chart\", \"streams\"]]\n",
    "cleaned_global_df.head()"
   ]
  },
  {
   "cell_type": "code",
   "execution_count": null,
   "id": "24acc259-7455-4bad-8f9f-394d7841d438",
   "metadata": {},
   "outputs": [],
   "source": []
  },
  {
   "cell_type": "code",
   "execution_count": null,
   "id": "634cc5f7-a0a1-48ad-93c7-e951d7af4fdb",
   "metadata": {},
   "outputs": [],
   "source": []
  },
  {
   "cell_type": "code",
   "execution_count": null,
   "id": "b5096b34-ffed-4c5e-97c9-4670f8a526a8",
   "metadata": {},
   "outputs": [],
   "source": []
  },
  {
   "cell_type": "code",
   "execution_count": null,
   "id": "fe9e914d-2dda-41d0-81c0-afd71249d272",
   "metadata": {},
   "outputs": [],
   "source": []
  },
  {
   "cell_type": "code",
   "execution_count": null,
   "id": "a1bcfbe4-0f5f-435d-a8a6-3a902040ba60",
   "metadata": {},
   "outputs": [],
   "source": []
  }
 ],
 "metadata": {
  "kernelspec": {
   "display_name": "Python 3 (ipykernel)",
   "language": "python",
   "name": "python3"
  },
  "language_info": {
   "codemirror_mode": {
    "name": "ipython",
    "version": 3
   },
   "file_extension": ".py",
   "mimetype": "text/x-python",
   "name": "python",
   "nbconvert_exporter": "python",
   "pygments_lexer": "ipython3",
   "version": "3.9.7"
  }
 },
 "nbformat": 4,
 "nbformat_minor": 5
}
