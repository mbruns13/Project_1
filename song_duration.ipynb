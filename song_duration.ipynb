{
 "cells": [
  {
   "cell_type": "code",
   "execution_count": 1,
   "id": "3da497be-7bd4-4787-985e-bde6e6539630",
   "metadata": {},
   "outputs": [],
   "source": [
    "#file for molly branch"
   ]
  },
  {
   "cell_type": "code",
   "execution_count": 6,
   "id": "7e7abec4-eb20-49a8-a3dd-9a1ff6a12a1a",
   "metadata": {},
   "outputs": [],
   "source": [
    "#dependencies and setup\n",
    "import requests\n",
    "import json\n",
    "import matplotlib.pyplot as plt\n",
    "import pandas as pd\n",
    "import numpy as np\n",
    "from scipy.stats import linregress\n",
    "\n",
    "#import spotify access token\n",
    "from config import access_token"
   ]
  },
  {
   "cell_type": "code",
   "execution_count": null,
   "id": "e4a534f6-0e79-4e34-b21f-3413cabd0fe4",
   "metadata": {},
   "outputs": [],
   "source": [
    "#base URL for Spotify API\n",
    "base_url = 'https://api.spotify.com/v1/'"
   ]
  },
  {
   "cell_type": "code",
   "execution_count": 5,
   "id": "937baca4-2f45-4994-bb94-db00c296cb14",
   "metadata": {},
   "outputs": [],
   "source": [
    "#from: https://stmorse.github.io/journal/spotify-api.html\n",
    "#In order to access, we send a properly formed GET request to the API server, with our access_token in the header. Let’s save this header info now, in the following very specific format:\n",
    "headers = {\n",
    "    'Authorization': 'Bearer {token}'.format(token=access_token)\n",
    "}"
   ]
  },
  {
   "cell_type": "code",
   "execution_count": null,
   "id": "796a8936-65e6-45d6-9347-74013b36c598",
   "metadata": {},
   "outputs": [],
   "source": [
    "#import global top songs csv\n",
    "global_songs_df = pd.read_csv(\"resources/global-weekly-2022-06-02.csv\")\n",
    "global_songs_df"
   ]
  }
 ],
 "metadata": {
  "kernelspec": {
   "display_name": "Python 3 (ipykernel)",
   "language": "python",
   "name": "python3"
  },
  "language_info": {
   "codemirror_mode": {
    "name": "ipython",
    "version": 3
   },
   "file_extension": ".py",
   "mimetype": "text/x-python",
   "name": "python",
   "nbconvert_exporter": "python",
   "pygments_lexer": "ipython3",
   "version": "3.9.7"
  }
 },
 "nbformat": 4,
 "nbformat_minor": 5
}
