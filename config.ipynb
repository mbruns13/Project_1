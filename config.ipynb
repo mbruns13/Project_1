{
 "cells": [
  {
   "cell_type": "code",
   "execution_count": null,
   "id": "ee61cae2-e851-4087-b8a2-78e84194c55e",
   "metadata": {},
   "outputs": [],
   "source": [
    "#here are the credentials for slone config"
   ]
  },
  {
   "cell_type": "code",
   "execution_count": 5,
   "id": "f06df23a-2569-4f3e-a072-1644f25d07ca",
   "metadata": {},
   "outputs": [],
   "source": [
    "CLIENT_ID = 'f513be8fcdc44e93a5af64240eb41b86'\n",
    "CLIENT_SECRET = 'ee28486577cc43a8bfeac6ef6a7fcb0a'\n",
    "access_token = 'BQBYHUIPa3VcEVycdARgzJE2iqtFp58ZLgPazA4N6q3CfuWZp2o63HVgcq1tsBW-4ByzDG3dHKAj0lf77kk'"
   ]
  }
 ],
 "metadata": {
  "kernelspec": {
   "display_name": "Python 3 (ipykernel)",
   "language": "python",
   "name": "python3"
  },
  "language_info": {
   "codemirror_mode": {
    "name": "ipython",
    "version": 3
   },
   "file_extension": ".py",
   "mimetype": "text/x-python",
   "name": "python",
   "nbconvert_exporter": "python",
   "pygments_lexer": "ipython3",
   "version": "3.9.7"
  }
 },
 "nbformat": 4,
 "nbformat_minor": 5
}
